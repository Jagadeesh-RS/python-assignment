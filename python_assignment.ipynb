{
 "cells": [
  {
   "cell_type": "code",
   "execution_count": 8,
   "id": "323ef1d1-c4b4-4db8-a321-5612a9d1225e",
   "metadata": {},
   "outputs": [
    {
     "ename": "NameError",
     "evalue": "name 'number' is not defined",
     "output_type": "error",
     "traceback": [
      "\u001b[0;31m---------------------------------------------------------------------------\u001b[0m",
      "\u001b[0;31mNameError\u001b[0m                                 Traceback (most recent call last)",
      "Cell \u001b[0;32mIn[8], line 9\u001b[0m\n\u001b[1;32m      7\u001b[0m L\u001b[38;5;241m=\u001b[39m[a,b,c,d,e]\n\u001b[1;32m      8\u001b[0m \u001b[38;5;28;01mfor\u001b[39;00m i \u001b[38;5;129;01min\u001b[39;00m L:\n\u001b[0;32m----> 9\u001b[0m     \u001b[38;5;28;01mif\u001b[39;00m i \u001b[38;5;129;01mis\u001b[39;00m \u001b[43mnumber\u001b[49m:\n\u001b[1;32m     10\u001b[0m         \u001b[38;5;28mprint\u001b[39m(\u001b[38;5;124m\"\u001b[39m\u001b[38;5;124mits a number\u001b[39m\u001b[38;5;124m\"\u001b[39m)\n\u001b[1;32m     11\u001b[0m     \u001b[38;5;28;01melse\u001b[39;00m:\n",
      "\u001b[0;31mNameError\u001b[0m: name 'number' is not defined"
     ]
    }
   ],
   "source": [
    "a=10\n",
    "b=\"Jagadeesh\"\n",
    "c=1.45\n",
    "d=9+8j\n",
    "e=True\n",
    "f=\"int\"\n",
    "g=\"float\"\n",
    "h=\"complex\"\n",
    "i=\"string\"\n",
    "j=\"bool\"\n",
    "\n",
    "L=[a,b,c,d,e]\n",
    "for i in L:\n",
    "    if type(i) is :\n",
    "        print(\"its a number\")\n",
    "    else:\n",
    "        print(\"i dont know\")\n"
   ]
  },
  {
   "cell_type": "code",
   "execution_count": 12,
   "id": "053a6e82-623f-4983-8c1f-6ca6f6f47259",
   "metadata": {},
   "outputs": [
    {
     "name": "stdout",
     "output_type": "stream",
     "text": [
      "The type of 10 is here \n",
      " <class 'int'>\n",
      "The type of Jagadeesh is here \n",
      " <class 'str'>\n",
      "The type of 1.45 is here \n",
      " <class 'float'>\n",
      "The type of (9+8j) is here \n",
      " <class 'complex'>\n",
      "The type of True is here \n",
      " <class 'bool'>\n"
     ]
    }
   ],
   "source": [
    "a=10\n",
    "b=\"Jagadeesh\"\n",
    "c=1.45\n",
    "d=9+8j\n",
    "e=True\n",
    "f=\"int\"\n",
    "g=\"float\"\n",
    "h=\"complex\"\n",
    "i=\"string\"\n",
    "j=\"bool\"\n",
    "z=[]\n",
    "t=[f,g,h,i,j]\n",
    "L=[a,b,c,d,e]\n",
    "\n",
    "for i in L:\n",
    "    print(\"The type of {} is here \\n {}\".format(i,type(i)))\n"
   ]
  },
  {
   "cell_type": "code",
   "execution_count": 15,
   "id": "872db746-8acc-494f-8d7c-92495a4fbc02",
   "metadata": {},
   "outputs": [
    {
     "name": "stdin",
     "output_type": "stream",
     "text": [
      "what is your age 23\n"
     ]
    },
    {
     "name": "stdout",
     "output_type": "stream",
     "text": [
      "you have the right to vote\n"
     ]
    }
   ],
   "source": [
    "age=int(input(\"what is your age\"))\n",
    "if age>= 18:\n",
    "    print(\"you have the right to vote\")\n",
    "else:\n",
    "    print(\"you cant vote\")"
   ]
  },
  {
   "cell_type": "code",
   "execution_count": 17,
   "id": "297cb89a-3547-49c8-83aa-250021388e0e",
   "metadata": {},
   "outputs": [
    {
     "name": "stdin",
     "output_type": "stream",
     "text": [
      "what is your age 25\n"
     ]
    },
    {
     "name": "stdout",
     "output_type": "stream",
     "text": [
      "ony 25 and you are not eligible to retire,\n",
      "ony 27 and you are not eligible to retire,\n",
      "ony 29 and you are not eligible to retire,\n",
      "ony 31 and you are not eligible to retire,\n",
      "ony 33 and you are not eligible to retire,\n",
      "ony 35 and you are not eligible to retire,\n",
      "ony 37 and you are not eligible to retire,\n",
      "ony 39 and you are not eligible to retire,\n",
      "ony 41 and you are not eligible to retire,\n",
      "ony 43 and you are not eligible to retire,\n",
      "ony 45 and you are not eligible to retire,\n",
      "ony 47 and you are not eligible to retire,\n",
      "ony 49 and you are not eligible to retire,\n",
      "ony 51 and you are not eligible to retire,\n",
      "ony 53 and you are not eligible to retire,\n",
      "ony 55 and you are not eligible to retire,\n",
      "ony 57 and you are not eligible to retire,\n",
      "ony 59 and you are not eligible to retire,\n",
      "you are 60 years or more, you can retire\n"
     ]
    }
   ],
   "source": [
    "age=int(input(\"what is your age\"))\n",
    "while age<60:\n",
    "    print(f\"ony {age} and you are not eligible to retire,\")\n",
    "    age=age+2\n",
    "else:\n",
    "    print(\"you are 60 years or more, you can retire\")"
   ]
  },
  {
   "cell_type": "code",
   "execution_count": 28,
   "id": "649e3d92-b9cd-459a-b654-53cc8c0eaf77",
   "metadata": {},
   "outputs": [
    {
     "name": "stdout",
     "output_type": "stream",
     "text": [
      "J\n"
     ]
    },
    {
     "ename": "TypeError",
     "evalue": "unsupported operand type(s) for *: 'NoneType' and 'int'",
     "output_type": "error",
     "traceback": [
      "\u001b[0;31m---------------------------------------------------------------------------\u001b[0m",
      "\u001b[0;31mTypeError\u001b[0m                                 Traceback (most recent call last)",
      "Cell \u001b[0;32mIn[28], line 2\u001b[0m\n\u001b[1;32m      1\u001b[0m \u001b[38;5;28;01mfor\u001b[39;00m i \u001b[38;5;129;01min\u001b[39;00m namme:\n\u001b[0;32m----> 2\u001b[0m     \u001b[38;5;28;43mprint\u001b[39;49m\u001b[43m(\u001b[49m\u001b[43mi\u001b[49m\u001b[43m)\u001b[49m\u001b[38;5;241;43m*\u001b[39;49m\u001b[38;5;241;43m8\u001b[39;49m\n",
      "\u001b[0;31mTypeError\u001b[0m: unsupported operand type(s) for *: 'NoneType' and 'int'"
     ]
    }
   ],
   "source": [
    "\n",
    "for i in namme:\n",
    "    print(i)*8"
   ]
  },
  {
   "cell_type": "code",
   "execution_count": 38,
   "id": "1c1601dd-cdf9-4b54-a73e-b0d266d4e32a",
   "metadata": {},
   "outputs": [
    {
     "name": "stdout",
     "output_type": "stream",
     "text": [
      "*****\n",
      "****\n",
      "***\n",
      "**\n",
      "*\n"
     ]
    }
   ],
   "source": [
    "n=5\n",
    "for i in range(0,n):\n",
    "    for k in range(0,n-i):\n",
    "        print(\"*\",end=\"\")\n",
    "    print()"
   ]
  },
  {
   "cell_type": "code",
   "execution_count": 7,
   "id": "e7f775df-45f7-401b-a439-13f75f49ecba",
   "metadata": {},
   "outputs": [
    {
     "name": "stdout",
     "output_type": "stream",
     "text": [
      "you are eligibe\n",
      "you are super power\n",
      "you got your peaceful and big house and you are Jagadeesh\n"
     ]
    }
   ],
   "source": [
    "age=32\n",
    "name=\"Jagadeesh\"\n",
    "if age > 25 and age<45:\n",
    "    print(\"you are eligibe\")\n",
    "   xx if age > 31:\n",
    "        print(\"you are super power\")\n",
    "if name == \"Jagadeesh\":\n",
    "    print(\"you got your peaceful and big house and you are {}\".format(name))"
   ]
  },
  {
   "cell_type": "code",
   "execution_count": 25,
   "id": "453aaa19-bf85-4920-9a48-06dd856c6fab",
   "metadata": {},
   "outputs": [
    {
     "name": "stdin",
     "output_type": "stream",
     "text": [
      "enter the product cost 2499\n"
     ]
    },
    {
     "name": "stdout",
     "output_type": "stream",
     "text": [
      "you have got free coupen worth 15% of your total bill for your purchase of 2499 and \n",
      " you get the discounted rate of 2124.15\n"
     ]
    }
   ],
   "source": [
    "product_cost = int(input(\"enter the product cost\"))\n",
    "if product_cost < 1000:\n",
    "    print(\"you have got the gift hamper for your purchase of {} and  you get the discounted rate of {}\".format(product_cost,product_cost*0.95))\n",
    "if product_cost >= 1000 :\n",
    "    print(\"you have got free coupen worth 15% of your total bill for your purchase of {} and \\n you get the discounted rate of {}\".format(product_cost,product_cost*0.85))\n",
    "elif product_cost > 2500:\n",
    "    print(\"you have got the 3 free movie tickets for your purchase of {} and  \\n you get the discounted rate of {}\".format(product_cost,product_cost*0.75))\n",
    "else:\n",
    "     print(\"Please contact manager\")\n",
    "    "
   ]
  },
  {
   "cell_type": "code",
   "execution_count": 12,
   "id": "dd183fb1-a89e-49c0-9ab6-0d5c782244ed",
   "metadata": {},
   "outputs": [
    {
     "name": "stdin",
     "output_type": "stream",
     "text": [
      "Enter the price 2599\n"
     ]
    },
    {
     "name": "stdout",
     "output_type": "stream",
     "text": [
      "The price of the product is 1819.3\n"
     ]
    }
   ],
   "source": [
    "product_price=int(input(\"Enter the price\"))\n",
    "if product_price>3000:\n",
    "    if product_price==4000:\n",
    "        print(\"Congratulations you get a Goa Trip\")\n",
    "    print(f\"The price of the product is {product_price*0.8}\")\n",
    "elif product_price>=2000 and product_price<=3000:\n",
    "    if product_price==2999:\n",
    "        print(\"Congratulations you get an additional gift\")\n",
    "    print(f\"The price of the product is {product_price*0.7}\")\n",
    "elif product_price>=100 and product_price<2000:\n",
    "    print(f\"The price of the product is {product_price*0.6}\")\n",
    "else:\n",
    "    print(\"Lets drink tea\")\n",
    "    print(\"I will also be there\")"
   ]
  },
  {
   "cell_type": "code",
   "execution_count": 22,
   "id": "20d5f328-1f37-4b1d-b43a-e9901f27d24b",
   "metadata": {},
   "outputs": [
    {
     "name": "stdin",
     "output_type": "stream",
     "text": [
      "enter the product cost 255\n"
     ]
    },
    {
     "name": "stdout",
     "output_type": "stream",
     "text": [
      "you have got the gift hamper for your purchase of 255 \n"
     ]
    }
   ],
   "source": [
    "product_cost = int(input(\"enter the product cost\"))\n",
    "if product_cost < 1000:\n",
    "    print(\"you have got the gift hamper for your purchase of {} \".format(product_cost))\n"
   ]
  },
  {
   "cell_type": "code",
   "execution_count": 26,
   "id": "999f1c1b-3f05-47d8-b8cd-f9fc003539a9",
   "metadata": {},
   "outputs": [
    {
     "data": {
      "text/plain": [
       "12"
      ]
     },
     "execution_count": 26,
     "metadata": {},
     "output_type": "execute_result"
    }
   ],
   "source": [
    "a=10\n",
    "a += 2\n",
    "a"
   ]
  },
  {
   "cell_type": "code",
   "execution_count": 29,
   "id": "f600c940-29f3-430e-b4eb-2709f40c1ee8",
   "metadata": {},
   "outputs": [
    {
     "data": {
      "text/plain": [
       "880"
      ]
     },
     "execution_count": 29,
     "metadata": {},
     "output_type": "execute_result"
    }
   ],
   "source": [
    "220 << 2"
   ]
  },
  {
   "cell_type": "code",
   "execution_count": 38,
   "id": "8c09eb27-a419-460b-80eb-6a4c40af9dc6",
   "metadata": {},
   "outputs": [
    {
     "name": "stdout",
     "output_type": "stream",
     "text": [
      "0b10111\n",
      "0b1100\n",
      "0b100\n"
     ]
    }
   ],
   "source": [
    "print(bin(23))\n",
    "print(bin(12))\n",
    "print(bin(4))"
   ]
  },
  {
   "cell_type": "code",
   "execution_count": 37,
   "id": "4d3ed330-68b2-4633-b26c-45cd9c9a3d6a",
   "metadata": {},
   "outputs": [
    {
     "data": {
      "text/plain": [
       "4"
      ]
     },
     "execution_count": 37,
     "metadata": {},
     "output_type": "execute_result"
    }
   ],
   "source": [
    "23 & 12"
   ]
  },
  {
   "cell_type": "code",
   "execution_count": null,
   "id": "63378e3f-53c4-4fe5-9d6f-0f282405adf5",
   "metadata": {},
   "outputs": [],
   "source": [
    "1"
   ]
  },
  {
   "cell_type": "code",
   "execution_count": 39,
   "id": "5744f0b9-6943-4410-a2ad-88e2db7eb026",
   "metadata": {},
   "outputs": [
    {
     "data": {
      "text/plain": [
       "False"
      ]
     },
     "execution_count": 39,
     "metadata": {},
     "output_type": "execute_result"
    }
   ],
   "source": [
    "not True"
   ]
  },
  {
   "cell_type": "code",
   "execution_count": 40,
   "id": "02ca2237-1b57-4c95-a373-735460474556",
   "metadata": {},
   "outputs": [
    {
     "data": {
      "text/plain": [
       "False"
      ]
     },
     "execution_count": 40,
     "metadata": {},
     "output_type": "execute_result"
    }
   ],
   "source": [
    "not 1"
   ]
  },
  {
   "cell_type": "code",
   "execution_count": 41,
   "id": "2e41e097-3a08-437a-9e98-74ff48466e30",
   "metadata": {},
   "outputs": [
    {
     "data": {
      "text/plain": [
       "1"
      ]
     },
     "execution_count": 41,
     "metadata": {},
     "output_type": "execute_result"
    }
   ],
   "source": [
    "1"
   ]
  },
  {
   "cell_type": "code",
   "execution_count": 43,
   "id": "ab185c2d-0e3a-4e9f-8cb6-70b3afae19d2",
   "metadata": {},
   "outputs": [],
   "source": [
    "t=(True,1)"
   ]
  },
  {
   "cell_type": "code",
   "execution_count": 44,
   "id": "1c37f3fe-9fd4-4a32-b563-1b770cf51b00",
   "metadata": {},
   "outputs": [
    {
     "data": {
      "text/plain": [
       "2"
      ]
     },
     "execution_count": 44,
     "metadata": {},
     "output_type": "execute_result"
    }
   ],
   "source": [
    "t.count(1)"
   ]
  },
  {
   "cell_type": "code",
   "execution_count": 45,
   "id": "2f2f2ccd-f668-4258-afb2-2b4d70b0e207",
   "metadata": {},
   "outputs": [
    {
     "data": {
      "text/plain": [
       "True"
      ]
     },
     "execution_count": 45,
     "metadata": {},
     "output_type": "execute_result"
    }
   ],
   "source": [
    "not(True) * False"
   ]
  },
  {
   "cell_type": "code",
   "execution_count": 47,
   "id": "bdd47982-7074-424e-9d90-9ab41c6f40f2",
   "metadata": {},
   "outputs": [
    {
     "ename": "NameError",
     "evalue": "name 'false' is not defined",
     "output_type": "error",
     "traceback": [
      "\u001b[0;31m---------------------------------------------------------------------------\u001b[0m",
      "\u001b[0;31mNameError\u001b[0m                                 Traceback (most recent call last)",
      "Cell \u001b[0;32mIn[47], line 1\u001b[0m\n\u001b[0;32m----> 1\u001b[0m \u001b[38;5;28;01mTrue\u001b[39;00m \u001b[38;5;241m*\u001b[39m \u001b[43mfalse\u001b[49m\n",
      "\u001b[0;31mNameError\u001b[0m: name 'false' is not defined"
     ]
    }
   ],
   "source": [
    "True * alse"
   ]
  },
  {
   "cell_type": "code",
   "execution_count": 48,
   "id": "241d4f6e-83d3-48d3-a514-30d4f0e246ba",
   "metadata": {},
   "outputs": [
    {
     "data": {
      "text/plain": [
       "True"
      ]
     },
     "execution_count": 48,
     "metadata": {},
     "output_type": "execute_result"
    }
   ],
   "source": [
    "True or False"
   ]
  },
  {
   "cell_type": "code",
   "execution_count": 49,
   "id": "43daa43e-9af4-402d-b2bc-8df07c4fe27d",
   "metadata": {},
   "outputs": [
    {
     "data": {
      "text/plain": [
       "2"
      ]
     },
     "execution_count": 49,
     "metadata": {},
     "output_type": "execute_result"
    }
   ],
   "source": [
    "True + True"
   ]
  },
  {
   "cell_type": "code",
   "execution_count": 51,
   "id": "15ebc7ef-aa86-4ecf-be81-563b02ec081e",
   "metadata": {},
   "outputs": [
    {
     "data": {
      "text/plain": [
       "0"
      ]
     },
     "execution_count": 51,
     "metadata": {},
     "output_type": "execute_result"
    }
   ],
   "source": [
    "True * (not True)"
   ]
  },
  {
   "cell_type": "code",
   "execution_count": 12,
   "id": "13dc8f86-c56b-4e22-a71e-82b89e3350f3",
   "metadata": {},
   "outputs": [
    {
     "data": {
      "text/plain": [
       "[-34, -100, -23]"
      ]
     },
     "execution_count": 12,
     "metadata": {},
     "output_type": "execute_result"
    }
   ],
   "source": [
    "list(filter(lambda x:x<0,l))"
   ]
  },
  {
   "cell_type": "code",
   "execution_count": 2,
   "id": "051c3b17-46b0-4b8f-9a6f-562ebb95ec85",
   "metadata": {},
   "outputs": [
    {
     "ename": "NameError",
     "evalue": "name 'l' is not defined",
     "output_type": "error",
     "traceback": [
      "\u001b[0;31m---------------------------------------------------------------------------\u001b[0m",
      "\u001b[0;31mNameError\u001b[0m                                 Traceback (most recent call last)",
      "Cell \u001b[0;32mIn[2], line 1\u001b[0m\n\u001b[0;32m----> 1\u001b[0m \u001b[43ml\u001b[49m\n",
      "\u001b[0;31mNameError\u001b[0m: name 'l' is not defined"
     ]
    }
   ],
   "source": [
    "l"
   ]
  },
  {
   "cell_type": "code",
   "execution_count": 11,
   "id": "10ca1f08-42a5-4c74-92a3-a885bb181f0c",
   "metadata": {},
   "outputs": [],
   "source": [
    "l=[1,2,3,4,5,6,9,-34,-100,-23]"
   ]
  },
  {
   "cell_type": "code",
   "execution_count": 13,
   "id": "766fa1cb-735e-4a92-b1d1-30d1ebd251df",
   "metadata": {},
   "outputs": [],
   "source": [
    "l=[\"Jagadeesh\",\"Krish\",\"Anitha\"]"
   ]
  },
  {
   "cell_type": "code",
   "execution_count": 15,
   "id": "4d58521b-c30e-4c72-a98d-321b98308d7c",
   "metadata": {},
   "outputs": [
    {
     "data": {
      "text/plain": [
       "['Jagadeesh', 'Anitha']"
      ]
     },
     "execution_count": 15,
     "metadata": {},
     "output_type": "execute_result"
    }
   ],
   "source": [
    "list(filter(lambda x: len(x)>5,l))"
   ]
  },
  {
   "cell_type": "code",
   "execution_count": null,
   "id": "80c8ab49-2e83-444a-b1f0-c2c73c157a27",
   "metadata": {},
   "outputs": [],
   "source": []
  },
  {
   "cell_type": "code",
   "execution_count": null,
   "id": "ab81dc89-8722-46e3-960e-9f36c46cde64",
   "metadata": {},
   "outputs": [],
   "source": []
  },
  {
   "cell_type": "code",
   "execution_count": null,
   "id": "4e58ede4-6e6f-46b2-8383-9f2e320af7cc",
   "metadata": {},
   "outputs": [],
   "source": []
  },
  {
   "cell_type": "code",
   "execution_count": null,
   "id": "4619da40-7cc6-475d-be95-9094fd28250b",
   "metadata": {},
   "outputs": [],
   "source": []
  },
  {
   "cell_type": "code",
   "execution_count": null,
   "id": "2762a034-7de5-4af5-805f-c275c8e0e270",
   "metadata": {},
   "outputs": [],
   "source": []
  },
  {
   "cell_type": "code",
   "execution_count": null,
   "id": "cb94a39d-3979-44ef-b653-20220f4cb8c0",
   "metadata": {},
   "outputs": [],
   "source": []
  },
  {
   "cell_type": "code",
   "execution_count": null,
   "id": "5678c7e1-d10a-4ea4-924e-1411932c622e",
   "metadata": {},
   "outputs": [],
   "source": []
  },
  {
   "cell_type": "code",
   "execution_count": null,
   "id": "79c5d712-d94e-4606-a608-9e66d68df843",
   "metadata": {},
   "outputs": [],
   "source": []
  },
  {
   "cell_type": "code",
   "execution_count": null,
   "id": "3f780491-8354-4e1d-90ca-d998e23c862d",
   "metadata": {},
   "outputs": [],
   "source": []
  },
  {
   "cell_type": "code",
   "execution_count": null,
   "id": "55b18ead-0550-489d-ae8f-1ae2dcf8e43c",
   "metadata": {},
   "outputs": [],
   "source": []
  },
  {
   "cell_type": "code",
   "execution_count": null,
   "id": "113b6117-3d30-4907-8416-5444c1351642",
   "metadata": {},
   "outputs": [],
   "source": []
  },
  {
   "cell_type": "code",
   "execution_count": null,
   "id": "93b23a37-99ba-4555-9fcd-7feef9613a4c",
   "metadata": {},
   "outputs": [],
   "source": []
  },
  {
   "cell_type": "code",
   "execution_count": 31,
   "id": "6e39a3c9-2574-424b-a6d0-80d465711976",
   "metadata": {},
   "outputs": [
    {
     "data": {
      "text/plain": [
       "220"
      ]
     },
     "execution_count": 31,
     "metadata": {},
     "output_type": "execute_result"
    }
   ],
   "source": [
    "880 >> 2"
   ]
  },
  {
   "cell_type": "code",
   "execution_count": null,
   "id": "88d7fda5-0c2b-4b79-b1a5-67809a16fbfe",
   "metadata": {},
   "outputs": [],
   "source": []
  }
 ],
 "metadata": {
  "kernelspec": {
   "display_name": "Python 3 (ipykernel)",
   "language": "python",
   "name": "python3"
  },
  "language_info": {
   "codemirror_mode": {
    "name": "ipython",
    "version": 3
   },
   "file_extension": ".py",
   "mimetype": "text/x-python",
   "name": "python",
   "nbconvert_exporter": "python",
   "pygments_lexer": "ipython3",
   "version": "3.10.8"
  }
 },
 "nbformat": 4,
 "nbformat_minor": 5
}
